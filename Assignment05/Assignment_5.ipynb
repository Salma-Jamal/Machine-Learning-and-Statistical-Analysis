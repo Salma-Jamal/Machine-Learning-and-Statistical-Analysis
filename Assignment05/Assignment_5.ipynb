{
  "cells": [
    {
      "cell_type": "markdown",
      "metadata": {
        "id": "view-in-github",
        "colab_type": "text"
      },
      "source": [
        "<a href=\"https://colab.research.google.com/github/Salma-Jamal/Machine-Learning-and-Statistical-Analysis/blob/main/Assignment05/Assignment_5.ipynb\" target=\"_parent\"><img src=\"https://colab.research.google.com/assets/colab-badge.svg\" alt=\"Open In Colab\"/></a>"
      ]
    },
    {
      "cell_type": "markdown",
      "metadata": {
        "id": "hsMant2SKKiU"
      },
      "source": [
        "# Assignemnt 5"
      ]
    },
    {
      "cell_type": "markdown",
      "metadata": {
        "id": "vRBwpEDAKKiW"
      },
      "source": [
        "<b>Given the following data <br>\n",
        "x = [20,25,30,35,40,45,50,55,60,65] <br>\n",
        "y = [0.5,1.8,5,6.2,6,6.5,7.8,9.4,9.8,10.9] <br>\n",
        "Where x represnts temperatures and y represents metal rod expansion.<br>\n",
        "Our goal is to build a model between metal rod expansion(y) with different temperatures(x). <br>\n",
        "<font color=blue>Deliverables: </font> <br>\n",
        "1) Implement a <font color=red>simple</font>  linear regression model in a function called <font color=red>LR</font>.<br>\n",
        "2) Implement a <font color=red>multiple</font> linear regression model in a function called <font color=red>MLR</font>.<br>\n",
        "3) Plot your simple linear regression model with given data.<br>\n",
        "4) Plot your multiple linear regression model with given data with polynomial of degree=2.<br>\n",
        "5) Plot your multiple linear regression model with given data with polynomial of degree=3.<br>\n",
        "6) Plot your multiple linear regression model with given data with polynomial of degree=5.<br>\n",
        "7) Plot your multiple linear regression model with given data with polynomial of degree=8.<br>\n"
      ]
    },
    {
      "cell_type": "code",
      "source": [
        "import numpy as np\n",
        "import matplotlib.pyplot as plt"
      ],
      "metadata": {
        "id": "mBbvUHFVDYLU"
      },
      "execution_count": null,
      "outputs": []
    },
    {
      "cell_type": "code",
      "source": [
        "x = np.array([20,25,30,35,40,45,50,55,60,65])\n",
        "y = np.array([0.5,1.8,5,6.2,6,6.5,7.8,9.4,9.8,10.9])"
      ],
      "metadata": {
        "id": "tKPg484KCco9"
      },
      "execution_count": null,
      "outputs": []
    },
    {
      "cell_type": "code",
      "execution_count": null,
      "metadata": {
        "id": "i9rKIPbdKKiX"
      },
      "outputs": [],
      "source": [
        "def LR(x,y):\n",
        "    \"\"\"\n",
        "    Input is your x, y data\n",
        "    Return values are the coefficients of simple linear regression \n",
        "    \n",
        "    \"\"\"\n",
        "    x ,y = np.array(x) , np.array(y)\n",
        "    n = np.size(x)\n",
        "    mean_x = np.mean(x)\n",
        "    mean_y = np.mean(y)\n",
        "    XY_Sd = np.sum(y*x) - n * mean_y * mean_x\n",
        "    XX_Sd = np.sum(x*x) - n * mean_x * mean_x\n",
        "    B1 = XY_Sd / XX_Sd\n",
        "    B0 = mean_y - B1*mean_x\n",
        "\n",
        "    return B0,B1\n",
        "\n",
        "def MLR(x,y,p_degree):\n",
        "    \"\"\"\n",
        "    Input is your x, y data and p_degree = polynomial degree \n",
        "    Return values are the model parameters of multiple linear regression \n",
        "    \n",
        "    \"\"\"\n",
        "    X = []\n",
        "    for j in x:\n",
        "      temp = []\n",
        "      for i in range(p_degree+1):\n",
        "        if i==0:\n",
        "          temp.append(1)\n",
        "        else:\n",
        "          temp.append(float(np.power(j ,i)))\n",
        "      X.append(np.array(temp))\n",
        "    X = np.array(X)\n",
        "    A = np.linalg.inv(X.T@X)\n",
        "    D = A@X.T\n",
        "    w = D@y\n",
        "\n",
        "\n",
        "    return w"
      ]
    },
    {
      "cell_type": "code",
      "source": [
        "def predict(value,p_degree,coeffs):\n",
        "  y_hat = 0\n",
        "  for i in range(p_degree+1):\n",
        "    if i == 0:\n",
        "      y_hat = y_hat+coeffs[i]\n",
        "    else:\n",
        "      y_hat = y_hat + ( coeffs[i] * (value**i))\n",
        "  return y_hat"
      ],
      "metadata": {
        "id": "PvZTWirca0kd"
      },
      "execution_count": null,
      "outputs": []
    },
    {
      "cell_type": "code",
      "source": [
        "def plot_regression_line(x, y, p_degree,flag):\n",
        "  if flag ==\"LR\":\n",
        "    coeffs = LR(x,y)\n",
        "  else:\n",
        "    coeffs = MLR(x,y,p_degree)\n",
        "\n",
        "  plt.scatter(x, y, color = \"y\",marker = \"o\", s = 30) \n",
        "  x_line = np.linspace(x.min(), x.max(), 100)\n",
        "  y_pred = predict(x_line,p_degree,coeffs)\n",
        "  regression_line = y_pred\n",
        "  plt.plot(x_line, regression_line, color = \"b\")  \n",
        "  plt.xlabel('x') \n",
        "  plt.ylabel('y')     "
      ],
      "metadata": {
        "id": "qi6FgFz_Szzu"
      },
      "execution_count": null,
      "outputs": []
    },
    {
      "cell_type": "markdown",
      "source": [
        "**Linear Regression**"
      ],
      "metadata": {
        "id": "ZaOo2_-uqiAI"
      }
    },
    {
      "cell_type": "code",
      "source": [
        "plt.scatter(x, y, color = 'y', marker = '*', s = 150)\n",
        "plot_regression_line(x, y,1,\"LR\")\n",
        "plt.show() "
      ],
      "metadata": {
        "colab": {
          "base_uri": "https://localhost:8080/",
          "height": 279
        },
        "id": "70og5lNSTj-M",
        "outputId": "6daee99e-fea3-4889-d3ea-81ec07affc04"
      },
      "execution_count": null,
      "outputs": [
        {
          "output_type": "display_data",
          "data": {
            "image/png": "[encoded data removed]",
            "text/plain": [
              "<Figure size 432x288 with 1 Axes>"
            ]
          },
          "metadata": {
            "needs_background": "light"
          }
        }
      ]
    },
    {
      "cell_type": "markdown",
      "source": [
        "**Multiple Linear Regression p-degree=2**"
      ],
      "metadata": {
        "id": "F3xJbl3kqpoR"
      }
    },
    {
      "cell_type": "code",
      "source": [
        "plt.scatter(x, y, color = 'y', marker = '*', s = 150)\n",
        "plot_regression_line(x, y,2,\"MLR\")\n",
        "plt.show() "
      ],
      "metadata": {
        "colab": {
          "base_uri": "https://localhost:8080/",
          "height": 279
        },
        "id": "Jdj__WbzqAtU",
        "outputId": "64ca4f30-38fe-431f-9bfd-95bb575fd006"
      },
      "execution_count": null,
      "outputs": [
        {
          "output_type": "display_data",
          "data": {
            "image/png": "[encoded data removed]",
            "text/plain": [
              "<Figure size 432x288 with 1 Axes>"
            ]
          },
          "metadata": {
            "needs_background": "light"
          }
        }
      ]
    },
    {
      "cell_type": "markdown",
      "source": [
        "**Multiple Linear Regression p-degree=3**"
      ],
      "metadata": {
        "id": "jhRMovEqq523"
      }
    },
    {
      "cell_type": "code",
      "source": [
        "plt.scatter(x, y, color = 'y', marker = '*', s = 150)\n",
        "plot_regression_line(x, y,3,\"MLR\")\n",
        "plt.show() "
      ],
      "metadata": {
        "colab": {
          "base_uri": "https://localhost:8080/",
          "height": 279
        },
        "id": "nckjHEpvv9mq",
        "outputId": "612204fd-fe7a-4ddd-df45-2b83b22163d8"
      },
      "execution_count": null,
      "outputs": [
        {
          "output_type": "display_data",
          "data": {
            "image/png": "[encoded data removed]",
            "text/plain": [
              "<Figure size 432x288 with 1 Axes>"
            ]
          },
          "metadata": {
            "needs_background": "light"
          }
        }
      ]
    },
    {
      "cell_type": "markdown",
      "source": [
        "**Multiple Linear Regression p-degree=5**"
      ],
      "metadata": {
        "id": "hrUD0Hmcq8b-"
      }
    },
    {
      "cell_type": "code",
      "source": [
        "plt.scatter(x, y, color = 'y', marker = '*', s = 150)\n",
        "plot_regression_line(x, y,5,\"MLR\")\n",
        "plt.show() "
      ],
      "metadata": {
        "colab": {
          "base_uri": "https://localhost:8080/",
          "height": 279
        },
        "id": "WhjMGD9nmIkq",
        "outputId": "3d499030-8d40-4d34-cb8f-dc9e6fbaec00"
      },
      "execution_count": null,
      "outputs": [
        {
          "output_type": "display_data",
          "data": {
            "image/png": "[encoded data removed]",
            "text/plain": [
              "<Figure size 432x288 with 1 Axes>"
            ]
          },
          "metadata": {
            "needs_background": "light"
          }
        }
      ]
    },
    {
      "cell_type": "markdown",
      "source": [
        "**Multiple Linear Regression p-degree=8**"
      ],
      "metadata": {
        "id": "NIDnlj0arAQT"
      }
    },
    {
      "cell_type": "code",
      "source": [
        "plt.scatter(x, y, color = 'y', marker = '*', s = 150)\n",
        "plot_regression_line(x, y,8,\"MLR\")\n",
        "plt.show()"
      ],
      "metadata": {
        "colab": {
          "base_uri": "https://localhost:8080/",
          "height": 279
        },
        "id": "oHHiOzAhwKBF",
        "outputId": "a26e2de0-138c-4915-d52b-286e5110dbd1"
      },
      "execution_count": null,
      "outputs": [
        {
          "output_type": "display_data",
          "data": {
            "image/png": "[encoded data removed]",
            "text/plain": [
              "<Figure size 432x288 with 1 Axes>"
            ]
          },
          "metadata": {
            "needs_background": "light"
          }
        }
      ]
    }
  ],
  "metadata": {
    "kernelspec": {
      "display_name": "Python 3",
      "language": "python",
      "name": "python3"
    },
    "language_info": {
      "codemirror_mode": {
        "name": "ipython",
        "version": 3
      },
      "file_extension": ".py",
      "mimetype": "text/x-python",
      "name": "python",
      "nbconvert_exporter": "python",
      "pygments_lexer": "ipython3",
      "version": "3.7.1"
    },
    "colab": {
      "name": "MLRegressionAssignment_5.ipynb",
      "provenance": [],
      "collapsed_sections": [],
      "include_colab_link": true
    }
  },
  "nbformat": 4,
  "nbformat_minor": 0
}