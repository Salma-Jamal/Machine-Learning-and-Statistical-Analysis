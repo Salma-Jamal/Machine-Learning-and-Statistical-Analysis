{
  "nbformat": 4,
  "nbformat_minor": 0,
  "metadata": {
    "kernelspec": {
      "display_name": "Python 3",
      "language": "python",
      "name": "python3"
    },
    "language_info": {
      "codemirror_mode": {
        "name": "ipython",
        "version": 3
      },
      "file_extension": ".py",
      "mimetype": "text/x-python",
      "name": "python",
      "nbconvert_exporter": "python",
      "pygments_lexer": "ipython3",
      "version": "3.7.4"
    },
    "colab": {
      "name": "Assignment_3.ipynb",
      "provenance": [],
      "collapsed_sections": [],
      "include_colab_link": true
    }
  },
  "cells": [
    {
      "cell_type": "markdown",
      "metadata": {
        "id": "view-in-github",
        "colab_type": "text"
      },
      "source": [
        "<a href=\"https://colab.research.google.com/github/Salma-Jamal/Machine-Learning-and-Statistical-Analysis/blob/main/Assignment03/Assignment_3.ipynb\" target=\"_parent\"><img src=\"https://colab.research.google.com/assets/colab-badge.svg\" alt=\"Open In Colab\"/></a>"
      ]
    },
    {
      "cell_type": "code",
      "metadata": {
        "id": "hg21lDNviUp6",
        "colab": {
          "base_uri": "https://localhost:8080/"
        },
        "outputId": "fe03f229-5b54-4c80-bbd9-6830e82f6d74"
      },
      "source": [
        "!wget https://cdn.discordapp.com/attachments/778630432878362676/911736391933759568/Assignment_3_data.zip"
      ],
      "execution_count": null,
      "outputs": [
        {
          "output_type": "stream",
          "name": "stdout",
          "text": [
            "--2021-11-22 20:17:11--  https://cdn.discordapp.com/attachments/778630432878362676/911736391933759568/Assignment_3_data.zip\n",
            "Resolving cdn.discordapp.com (cdn.discordapp.com)... 162.159.130.233, 162.159.134.233, 162.159.129.233, ...\n",
            "Connecting to cdn.discordapp.com (cdn.discordapp.com)|162.159.130.233|:443... connected.\n",
            "HTTP request sent, awaiting response... 200 OK\n",
            "Length: 287189 (280K) [application/zip]\n",
            "Saving to: ‘Assignment_3_data.zip’\n",
            "\n",
            "Assignment_3_data.z 100%[===================>] 280.46K  --.-KB/s    in 0.03s   \n",
            "\n",
            "2021-11-22 20:17:12 (8.12 MB/s) - ‘Assignment_3_data.zip’ saved [287189/287189]\n",
            "\n"
          ]
        }
      ]
    },
    {
      "cell_type": "code",
      "metadata": {
        "id": "wVMoclyMiblh",
        "colab": {
          "base_uri": "https://localhost:8080/"
        },
        "outputId": "04b0d4ba-45f6-4067-c88a-42e2fc7251f8"
      },
      "source": [
        "!unzip /content/Assignment_3_data.zip"
      ],
      "execution_count": null,
      "outputs": [
        {
          "output_type": "stream",
          "name": "stdout",
          "text": [
            "Archive:  /content/Assignment_3_data.zip\n",
            "  inflating: Data1.txt               \n",
            "  inflating: Data3-1.txt             \n",
            "  inflating: Data3-2.txt             \n",
            "  inflating: Data3-3.txt             \n"
          ]
        }
      ]
    },
    {
      "cell_type": "code",
      "metadata": {
        "collapsed": true,
        "id": "DEMSiTh4iSjL"
      },
      "source": [
        "import numpy as np\n",
        "import pandas as pd\n",
        "import math\n",
        "import matplotlib.pyplot as plt\n",
        "from scipy.stats import norm, invgauss\n",
        "import scipy.stats as stats\n",
        "import pylab as pl\n",
        "pl.style.use('ggplot')"
      ],
      "execution_count": null,
      "outputs": []
    },
    {
      "cell_type": "code",
      "metadata": {
        "id": "HQs6BeEQjFde"
      },
      "source": [
        "def visualize(data,mean,std,name):\n",
        "  fit = stats.norm.pdf(data, mean, std)  \n",
        "  pl.hist(x1,color = \"skyblue\")\n",
        "  pl.title('Histogram of %s'%(name))\n",
        "  pl.show()                   "
      ],
      "execution_count": null,
      "outputs": []
    },
    {
      "cell_type": "code",
      "metadata": {
        "collapsed": true,
        "id": "frkehyiMiSjX"
      },
      "source": [
        "def hypothesis_test(x1, x2, alpha,name,name2):\n",
        "    '''\n",
        "    This function does a hypothesis test over the mean by considering x1 as the population and x2 as the mean. Alpha is the\n",
        "    significance level\n",
        "    Output: lower bound of the critical region, higher bound of the critical region, p-value.\n",
        "    '''\n",
        "    popu_size  = x1.size\n",
        "    samp_size  = x2.size\n",
        "\n",
        "    popu_mean  = np.mean(x1)\n",
        "    samp_mean  = np.mean(x2)\n",
        "    \n",
        "    popu_std   = np.std(x1)\n",
        "    samp_std = np.std(x2)\n",
        "    \n",
        "    z0 = (samp_mean - popu_mean) / ( popu_std / math.sqrt(samp_size) )\n",
        "    pvalue = 2*(1-norm.cdf(z0))\n",
        "\n",
        "    z02 = alpha/2\n",
        "    z02 = norm.ppf(z02)\n",
        "\n",
        "    lower_critical_limit =  popu_mean + z02 * ( popu_std / math.sqrt(samp_size))\n",
        "    upper_critical_limit =  popu_mean - z02 * ( popu_std / math.sqrt(samp_size) )\n",
        "\n",
        "    print(\"\\nBetween %s and %s:\\n\"%(name,name2))\n",
        "    print(\"Lower1 = \", lower_critical_limit)\n",
        "    print(\"Upper1 = \",upper_critical_limit)\n",
        "    print(\"p-value1 = \",pvalue,\"\\n\")\n",
        "    if pvalue <= (1-alpha):\n",
        "      print(\"Reject\\n\")\n",
        "    else:\n",
        "      print(\"Accept\\n\")\n",
        "\n",
        "    visualize(x1,popu_mean,popu_std,name)\n",
        "    print('\\n')\n",
        "    visualize(x2,samp_mean,samp_std,name2)\n",
        "    \n",
        "    return lower_critical_limit, upper_critical_limit, pvalue"
      ],
      "execution_count": null,
      "outputs": []
    },
    {
      "cell_type": "code",
      "metadata": {
        "colab": {
          "base_uri": "https://localhost:8080/",
          "height": 1000
        },
        "id": "gIg-ph-ZiSja",
        "outputId": "31bc578b-b6c5-4afd-ad3e-29e30e8f606d"
      },
      "source": [
        "print(\"Problem 3\")\n",
        "\n",
        "x1 = pd.read_csv('Data3-1.txt', sep=\",\", header=None)\n",
        "x1 = np.array(x1).squeeze(0)\n",
        "x2 = pd.read_csv('Data3-2.txt', sep=\",\", header=None)\n",
        "x2 = np.array(x2).squeeze(0)\n",
        "x3 = pd.read_csv('Data3-3.txt', sep=\",\", header=None)\n",
        "x3 = np.array(x3).squeeze(0)\n",
        "\n",
        "lower1, upper1, pvalue1 = hypothesis_test(x1, x2, 0.05,\"Data3-1\",\"Data3-2\")\n",
        "print(\"\\n\")\n",
        "print(\"#\"*100)\n",
        "lower2, upper2, pvalue2 = hypothesis_test(x1, x3, 0.05,\"Data3-1\",\"Data3-3\")"
      ],
      "execution_count": null,
      "outputs": [
        {
          "output_type": "stream",
          "name": "stdout",
          "text": [
            "Problem 3\n",
            "\n",
            "Between Data3-1 and Data3-2:\n",
            "\n",
            "Lower1 =  -0.09451612771737695\n",
            "Upper1 =  0.029252845815376946\n",
            "p-value1 =  0.8614735881829605 \n",
            "\n",
            "Reject\n",
            "\n"
          ]
        },
        {
          "output_type": "display_data",
          "data": {
            "image/png": "[encoded data removed]",
            "text/plain": [
              "<Figure size 432x288 with 1 Axes>"
            ]
          },
          "metadata": {}
        },
        {
          "output_type": "stream",
          "name": "stdout",
          "text": [
            "\n",
            "\n"
          ]
        },
        {
          "output_type": "display_data",
          "data": {
            "image/png": "[encoded data removed]",
            "text/plain": [
              "<Figure size 432x288 with 1 Axes>"
            ]
          },
          "metadata": {}
        },
        {
          "output_type": "stream",
          "name": "stdout",
          "text": [
            "\n",
            "\n",
            "####################################################################################################\n",
            "\n",
            "Between Data3-1 and Data3-3:\n",
            "\n",
            "Lower1 =  -0.09451612771737695\n",
            "Upper1 =  0.029252845815376946\n",
            "p-value1 =  0.00010244978312501374 \n",
            "\n",
            "Reject\n",
            "\n"
          ]
        },
        {
          "output_type": "display_data",
          "data": {
            "image/png": "[encoded data removed]",
            "text/plain": [
              "<Figure size 432x288 with 1 Axes>"
            ]
          },
          "metadata": {}
        },
        {
          "output_type": "stream",
          "name": "stdout",
          "text": [
            "\n",
            "\n"
          ]
        },
        {
          "output_type": "display_data",
          "data": {
            "image/png": "[encoded data removed]",
            "text/plain": [
              "<Figure size 432x288 with 1 Axes>"
            ]
          },
          "metadata": {}
        }
      ]
    }
  ]
}